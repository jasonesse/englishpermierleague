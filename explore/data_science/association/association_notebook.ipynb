{
 "cells": [
  {
   "cell_type": "markdown",
   "metadata": {},
   "source": [
    "Question: Is the referee bias?"
   ]
  },
  {
   "cell_type": "code",
   "execution_count": 29,
   "metadata": {},
   "outputs": [],
   "source": [
    "import pandas as pd\n",
    "# read data\n",
    "source_df = pd.read_csv('..\\epl2020_and_weather.csv')"
   ]
  },
  {
   "cell_type": "code",
   "execution_count": 39,
   "metadata": {},
   "outputs": [],
   "source": [
    "df = source_df[['game_id','wins_home','wins_away','teamId_home','teamId_away','Referee.x']].drop_duplicates()"
   ]
  },
  {
   "cell_type": "code",
   "execution_count": 40,
   "metadata": {},
   "outputs": [
    {
     "name": "stdout",
     "output_type": "stream",
     "text": [
      "            game_id  wins_home  wins_away  teamId_home       teamId_away  \\\n",
      "0    20190809200000          1          0    Liverpool           Norwich   \n",
      "2    20190810123000          0          1     West Ham          Man City   \n",
      "7    20190810150000          0          0  Bournemouth  Sheffield United   \n",
      "8    20190810150000          1          0      Burnley       Southampton   \n",
      "9    20190810150000          0          1      Watford          Brighton   \n",
      "..              ...        ...        ...          ...               ...   \n",
      "270  20200307150000          0          1  Southampton  Newcastle United   \n",
      "271  20200307150000          0          0       Wolves          Brighton   \n",
      "273  20200307173000          0          0      Burnley         Tottenham   \n",
      "274  20200308163000          1          0      Man Utd          Man City   \n",
      "276  20200309200000          1          0    Leicester       Aston Villa   \n",
      "\n",
      "      Referee.x  \n",
      "0      M Oliver  \n",
      "2        M Dean  \n",
      "7      K Friend  \n",
      "8       G Scott  \n",
      "9      C Pawson  \n",
      "..          ...  \n",
      "270     G Scott  \n",
      "271  A Marriner  \n",
      "273      J Moss  \n",
      "274      M Dean  \n",
      "276    M Oliver  \n",
      "\n",
      "[183 rows x 6 columns]\n"
     ]
    }
   ],
   "source": [
    "print(df)"
   ]
  }
 ],
 "metadata": {
  "kernelspec": {
   "display_name": "Python 3",
   "language": "python",
   "name": "python3"
  },
  "language_info": {
   "codemirror_mode": {
    "name": "ipython",
    "version": 3
   },
   "file_extension": ".py",
   "mimetype": "text/x-python",
   "name": "python",
   "nbconvert_exporter": "python",
   "pygments_lexer": "ipython3",
   "version": "3.7.3"
  }
 },
 "nbformat": 4,
 "nbformat_minor": 2
}
